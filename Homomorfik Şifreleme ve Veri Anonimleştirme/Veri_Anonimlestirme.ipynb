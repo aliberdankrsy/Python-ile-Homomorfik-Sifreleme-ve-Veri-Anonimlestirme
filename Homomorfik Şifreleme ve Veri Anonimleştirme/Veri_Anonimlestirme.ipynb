{
 "cells": [
  {
   "cell_type": "code",
   "execution_count": 1,
   "id": "7581c8db",
   "metadata": {},
   "outputs": [
    {
     "name": "stdout",
     "output_type": "stream",
     "text": [
      "        İsim  Yaş      Meslek\n",
      "0      Ahmet   35    Mühendis\n",
      "1       Ayşe   28      Doktor\n",
      "2     Mehmet   42      Avukat\n",
      "3      Fatma   39    Öğretmen\n",
      "4        Ali   78     Hemşire\n",
      "5      Osman   54       Şöför\n",
      "6     Hatice   62    Öğretmen\n",
      "7   Süleyman   15    Mühendis\n",
      "8      Samet   24       Şöför\n",
      "9      Yeliz   32      Avukat\n",
      "10     Selen   44      Bakkal\n",
      "11    Mahsar   17      Doktor\n",
      "12      Fuat   36      Bakkal\n",
      "13     Özkan   39    Mühendis\n",
      "14     Fatih   50    Öğretmen\n",
      "15      Alev   63       Şöför\n",
      "16     Nimet   29       Hakim\n",
      "17     Murat   27    Mühendis\n",
      "18    Hadise   16      Doktor\n",
      "19     Fulya   31  Temizlikçi\n"
     ]
    }
   ],
   "source": [
    "import pandas as pd\n",
    "import faker\n",
    "import random\n",
    "\n",
    "fake = faker.Faker()\n",
    "\n",
    "#Örnek veri seti\n",
    "veri = {\n",
    "    'İsim': ['Ahmet', 'Ayşe', 'Mehmet', 'Fatma', 'Ali', 'Osman', 'Hatice',\n",
    "             'Süleyman', 'Samet', 'Yeliz', 'Selen', 'Mahsar', 'Fuat',\n",
    "            'Özkan', 'Fatih', 'Alev', 'Nimet', 'Murat', 'Hadise', 'Fulya'],\n",
    "    \n",
    "    'Yaş': [35, 28, 42, 39, 78, 54, 62, 15, 24, 32, 44, 17, 36, 39, 50, 63, 29, 27, 16, 31],\n",
    "    \n",
    "    'Meslek': ['Mühendis', 'Doktor', 'Avukat', 'Öğretmen', 'Hemşire', 'Şöför', 'Öğretmen', 'Mühendis',\n",
    "            'Şöför', 'Avukat', 'Bakkal', 'Doktor', 'Bakkal', 'Mühendis', 'Öğretmen',\n",
    "            'Şöför', 'Hakim', 'Mühendis', 'Doktor', 'Temizlikçi']\n",
    "}\n",
    "\n",
    "# Veri setini DataFrame'e dönüştürme\n",
    "df = pd.DataFrame(veri)\n",
    "\n",
    "print(df)"
   ]
  },
  {
   "cell_type": "code",
   "execution_count": 2,
   "id": "6f7e4845",
   "metadata": {},
   "outputs": [
    {
     "name": "stdout",
     "output_type": "stream",
     "text": [
      "        İsim      Meslek Yaş Aralığı\n",
      "0      Ahmet    Mühendis       19-35\n",
      "1       Ayşe      Doktor       19-35\n",
      "2     Mehmet      Avukat       36-50\n",
      "3      Fatma    Öğretmen       36-50\n",
      "4        Ali     Hemşire         50+\n",
      "5      Osman       Şöför         50+\n",
      "6     Hatice    Öğretmen         50+\n",
      "7   Süleyman    Mühendis        0-18\n",
      "8      Samet       Şöför       19-35\n",
      "9      Yeliz      Avukat       19-35\n",
      "10     Selen      Bakkal       36-50\n",
      "11    Mahsar      Doktor        0-18\n",
      "12      Fuat      Bakkal       36-50\n",
      "13     Özkan    Mühendis       36-50\n",
      "14     Fatih    Öğretmen       36-50\n",
      "15      Alev       Şöför         50+\n",
      "16     Nimet       Hakim       19-35\n",
      "17     Murat    Mühendis       19-35\n",
      "18    Hadise      Doktor        0-18\n",
      "19     Fulya  Temizlikçi       19-35\n"
     ]
    }
   ],
   "source": [
    "# Yaş bilgisini kategorik hale getirme\n",
    "df['Yaş Aralığı'] = pd.cut(df['Yaş'], bins=[0, 18, 35, 50, 100], labels=['0-18', '19-35', '36-50', '50+'])\n",
    "\n",
    "# Orjinal 'Yaş' sütununu veri setinden kaldırma\n",
    "df.drop('Yaş', axis=1, inplace=True)\n",
    "\n",
    "print(df)"
   ]
  },
  {
   "cell_type": "code",
   "execution_count": 3,
   "id": "e3ab4d06",
   "metadata": {},
   "outputs": [
    {
     "name": "stdout",
     "output_type": "stream",
     "text": [
      "        İsim Yaş Aralığı Anonim Meslek\n",
      "0      Ahmet       19-35        Teknik\n",
      "1       Ayşe       19-35        Sağlık\n",
      "2     Mehmet       36-50         Hukuk\n",
      "3      Fatma       36-50        Eğitim\n",
      "4        Ali         50+        Sağlık\n",
      "5      Osman         50+        Hizmet\n",
      "6     Hatice         50+        Eğitim\n",
      "7   Süleyman        0-18        Teknik\n",
      "8      Samet       19-35        Hizmet\n",
      "9      Yeliz       19-35         Hukuk\n",
      "10     Selen       36-50         Esnaf\n",
      "11    Mahsar        0-18        Sağlık\n",
      "12      Fuat       36-50         Esnaf\n",
      "13     Özkan       36-50        Teknik\n",
      "14     Fatih       36-50        Eğitim\n",
      "15      Alev         50+        Hizmet\n",
      "16     Nimet       19-35         Hukuk\n",
      "17     Murat       19-35        Teknik\n",
      "18    Hadise        0-18        Sağlık\n",
      "19     Fulya       19-35        Hizmet\n"
     ]
    }
   ],
   "source": [
    "# Meslek bilgisini anonimleştirme\n",
    "meslek_map = {\n",
    "    'Mühendis': 'Teknik',\n",
    "    'Doktor': 'Sağlık',\n",
    "    'Hemşire': 'Sağlık',\n",
    "    'Öğretmen': 'Eğitim',\n",
    "    'Avukat': 'Hukuk',\n",
    "    'Hakim': 'Hukuk',\n",
    "    'Bakkal': 'Esnaf',\n",
    "    'Şöför': 'Hizmet',\n",
    "    'Temizlikçi': 'Hizmet'\n",
    "}\n",
    "\n",
    "df['Anonim Meslek'] = df['Meslek'].map(meslek_map)\n",
    "\n",
    "# Orjinal 'Meslek' sütununu veri setinden kaldırma\n",
    "df.drop('Meslek', axis=1, inplace=True)\n",
    "\n",
    "print(df)"
   ]
  },
  {
   "cell_type": "code",
   "execution_count": 4,
   "id": "fb5314f2",
   "metadata": {},
   "outputs": [
    {
     "name": "stdout",
     "output_type": "stream",
     "text": [
      "   Yaş Aralığı Anonim Meslek            Anonim İsim\n",
      "0        19-35        Teknik          Stacey Norton\n",
      "1        19-35        Sağlık         Brian Williams\n",
      "2        36-50         Hukuk         Brittany Meyer\n",
      "3        36-50        Eğitim  Christopher Stevenson\n",
      "4          50+        Sağlık         Sandra Mullins\n",
      "5          50+        Hizmet         Raymond Wagner\n",
      "6          50+        Eğitim         Vickie Holland\n",
      "7         0-18        Teknik           Linda Barker\n",
      "8        19-35        Hizmet        Valerie Griffin\n",
      "9        19-35         Hukuk             Kurt Horne\n",
      "10       36-50         Esnaf           George Young\n",
      "11        0-18        Sağlık          Angela Ashley\n",
      "12       36-50         Esnaf        Kristin Simpson\n",
      "13       36-50        Teknik        Deborah Rowland\n",
      "14       36-50        Eğitim            Dustin Wolf\n",
      "15         50+        Hizmet           Eric Sanders\n",
      "16       19-35         Hukuk          Brandon Smith\n",
      "17       19-35        Teknik           Linda Lozano\n",
      "18        0-18        Sağlık     Michelle Gutierrez\n",
      "19       19-35        Hizmet            Carl Barnes\n"
     ]
    }
   ],
   "source": [
    "# İsimleri rastgele kimliklerle değiştirme\n",
    "df['Anonim İsim'] = [fake.name() for _ in range(len(df))]\n",
    "\n",
    "# Orjinal 'İsim' sütununu veri setinden kaldırma\n",
    "df.drop('İsim', axis=1, inplace=True)\n",
    "\n",
    "print(df)"
   ]
  },
  {
   "cell_type": "code",
   "execution_count": 5,
   "id": "ff295f92",
   "metadata": {},
   "outputs": [
    {
     "data": {
      "text/plain": [
       "0             oncNSy eraott\n",
       "1            almrnsWai Bili\n",
       "2            nryeMrtyieBt a\n",
       "3     orCspsSnthieen oevtrh\n",
       "4            ndSrlsiMaa nlu\n",
       "5             RmnoadnyregWa\n",
       "6            iinaellVHcod k\n",
       "7              rBadk rLaeni\n",
       "8           fr ViGifnaeierl\n",
       "9                runKH oert\n",
       "10             n eugoYeGrgo\n",
       "11            seAnlyglhaeA \n",
       "12          niomsSitpKrs in\n",
       "13           wbloaDorRdahne\n",
       "14              fuDlsWn oit\n",
       "15             EsarSidnec r\n",
       "16             hrimSandtnBo\n",
       "17              LinzdoLonaa\n",
       "18        uizMeterlGeicelrh\n",
       "19              l BraanseCr\n",
       "Name: Anonim İsim, dtype: object"
      ]
     },
     "execution_count": 5,
     "metadata": {},
     "output_type": "execute_result"
    }
   ],
   "source": [
    "# Anonim isim değerlerinin harflerini rastgele hale getirecek bir fonksiyon tanımladık\n",
    "def randomize_values(col_values):\n",
    "    col_values_list = list(col_values) # Stringi listeye dönüştür\n",
    "    random.shuffle(col_values_list)\n",
    "    return ''.join(col_values_list) # Listeyi tekrardan stringe dönüştürdük\n",
    "\n",
    "# Fonksiyonu istenen sütunlara uyguladık\n",
    "column_to_randomize = 'Anonim İsim'\n",
    "df[column_to_randomize].apply(randomize_values)"
   ]
  },
  {
   "cell_type": "code",
   "execution_count": 6,
   "id": "0c5c42e3",
   "metadata": {},
   "outputs": [
    {
     "name": "stdout",
     "output_type": "stream",
     "text": [
      "   Yaş Aralığı Anonim Meslek Anonim İsim\n",
      "0        19-35    xvJkgbTJTp  PCjZWVsMPm\n",
      "1        19-35    nYzsbi5Wjl  nMY6JMuvib\n",
      "2        36-50    reeCX5b977  Dffh0RVsqO\n",
      "3        36-50    TIjxNlDeDT  s9bZJeOdJs\n",
      "4          50+    U1tgCl4YgS  h1iR3XoHPR\n",
      "5          50+    BgmGNy3Qfc  kPTexv6IzF\n",
      "6          50+    jBNcFhUm1R  uFwuRPP9Ho\n",
      "7         0-18    Mzrk3zUtmw  az0wPKFJIv\n",
      "8        19-35    h9TsHtpg6v  NNCefQC7Sl\n",
      "9        19-35    m7JgooNuQs  pC6LrRVhW2\n",
      "10       36-50    NnIJCjWe2n  7vGPO4UWzY\n",
      "11        0-18    srn2PpL3bC  cHQibqSIkc\n",
      "12       36-50    K1ySEl6ctW  S88IFO3ivZ\n",
      "13       36-50    KcBPNkmSK7  o5Yvfsf4NE\n",
      "14       36-50    AoFA5MK9EN  WQnnekrBgX\n",
      "15         50+    6QRbMVmO9N  233Un6y8FH\n",
      "16       19-35    H1RvjlzKH8  f0SkknP24d\n",
      "17       19-35    ASl34b4xx9  CFqZdL7Tmx\n",
      "18        0-18    srQ0pMNseu  Ud3jxCitt1\n",
      "19       19-35    tN8xcCSfPm  L2cmzvSe3T\n"
     ]
    }
   ],
   "source": [
    "import string\n",
    "\n",
    "# Tüm dataframe üstünde çalışan fonksiyonu tanımladık\n",
    "def randomize_values(df):\n",
    "    for column in df.columns:\n",
    "        if df[column].dtype == 'O': # Sütunun object dtype sahip olup olmadığını kontrol ettik\n",
    "            df[column] = [''.join(random.choices(string.ascii_letters + string.digits, \n",
    "            k=10)) for _ in range(len(df))] # Rastgele dizelerin bir listesini oluşturduk\n",
    "    return df\n",
    "\n",
    "# Fonksiyonu dataframe'e uyguladık\n",
    "df_rand = randomize_values(df)\n",
    "\n",
    "print(df_rand)"
   ]
  },
  {
   "cell_type": "code",
   "execution_count": null,
   "id": "63346528",
   "metadata": {},
   "outputs": [],
   "source": []
  }
 ],
 "metadata": {
  "kernelspec": {
   "display_name": "Python 3 (ipykernel)",
   "language": "python",
   "name": "python3"
  },
  "language_info": {
   "codemirror_mode": {
    "name": "ipython",
    "version": 3
   },
   "file_extension": ".py",
   "mimetype": "text/x-python",
   "name": "python",
   "nbconvert_exporter": "python",
   "pygments_lexer": "ipython3",
   "version": "3.9.13"
  }
 },
 "nbformat": 4,
 "nbformat_minor": 5
}
